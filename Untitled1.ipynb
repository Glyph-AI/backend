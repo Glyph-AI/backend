{
 "cells": [
  {
   "cell_type": "code",
   "execution_count": 1,
   "id": "5a62eb58",
   "metadata": {},
   "outputs": [
    {
     "name": "stdout",
     "output_type": "stream",
     "text": [
      "Collecting googlesearch-python\n",
      "  Downloading googlesearch-python-1.2.3.tar.gz (3.9 kB)\n",
      "  Preparing metadata (setup.py): started\n",
      "  Preparing metadata (setup.py): finished with status 'done'\n",
      "Requirement already satisfied: beautifulsoup4>=4.9 in c:\\users\\joelm\\appdata\\local\\programs\\python\\python310\\lib\\site-packages (from googlesearch-python) (4.12.0)\n",
      "Requirement already satisfied: requests>=2.20 in c:\\users\\joelm\\appdata\\local\\programs\\python\\python310\\lib\\site-packages (from googlesearch-python) (2.28.2)\n",
      "Requirement already satisfied: soupsieve>1.2 in c:\\users\\joelm\\appdata\\local\\programs\\python\\python310\\lib\\site-packages (from beautifulsoup4>=4.9->googlesearch-python) (2.4)\n",
      "Requirement already satisfied: idna<4,>=2.5 in c:\\users\\joelm\\appdata\\local\\programs\\python\\python310\\lib\\site-packages (from requests>=2.20->googlesearch-python) (3.4)\n",
      "Requirement already satisfied: urllib3<1.27,>=1.21.1 in c:\\users\\joelm\\appdata\\local\\programs\\python\\python310\\lib\\site-packages (from requests>=2.20->googlesearch-python) (1.26.14)\n",
      "Requirement already satisfied: certifi>=2017.4.17 in c:\\users\\joelm\\appdata\\local\\programs\\python\\python310\\lib\\site-packages (from requests>=2.20->googlesearch-python) (2022.12.7)\n",
      "Requirement already satisfied: charset-normalizer<4,>=2 in c:\\users\\joelm\\appdata\\local\\programs\\python\\python310\\lib\\site-packages (from requests>=2.20->googlesearch-python) (3.0.1)\n",
      "Installing collected packages: googlesearch-python\n",
      "  Running setup.py install for googlesearch-python: started\n",
      "  Running setup.py install for googlesearch-python: finished with status 'done'\n",
      "Successfully installed googlesearch-python-1.2.3\n",
      "Note: you may need to restart the kernel to use updated packages.\n"
     ]
    },
    {
     "name": "stderr",
     "output_type": "stream",
     "text": [
      "  DEPRECATION: googlesearch-python is being installed using the legacy 'setup.py install' method, because it does not have a 'pyproject.toml' and the 'wheel' package is not installed. pip 23.1 will enforce this behaviour change. A possible replacement is to enable the '--use-pep517' option. Discussion can be found at https://github.com/pypa/pip/issues/8559\n",
      "\n",
      "[notice] A new release of pip is available: 23.0.1 -> 23.1.2\n",
      "[notice] To update, run: python.exe -m pip install --upgrade pip\n"
     ]
    }
   ],
   "source": [
    "%pip install googlesearch-python"
   ]
  },
  {
   "cell_type": "code",
   "execution_count": 3,
   "id": "122ec0c1",
   "metadata": {},
   "outputs": [],
   "source": [
    "from googlesearch import search"
   ]
  },
  {
   "cell_type": "code",
   "execution_count": 25,
   "id": "ba7ff3d8",
   "metadata": {},
   "outputs": [],
   "source": [
    "results = search(\"What time is Kooza playing in Toronto today\", advanced=True)"
   ]
  },
  {
   "cell_type": "code",
   "execution_count": 26,
   "id": "aa305627",
   "metadata": {},
   "outputs": [
    {
     "name": "stdout",
     "output_type": "stream",
     "text": [
      "Buy tickets for KOOZA, touring show, at Under the Big Top, Toronto: Lake Shore Blvd West in Toronto, ON created by Cirque du Soleil.\n",
      "Kooza – Cirque du Soleil. Start Date: April 7, 2023. End Date: June 18, 2023. Price: $77 & up. Address: Under the Big Top, 2150 Lake Shore Blvd. W, Toronto.\n",
      "Laughter! Acrobatic! Heartfelt emotion! KOOZA is a return to the origins of Cirque du Soleil that... 2150 Lake Shore boulevard West, Toronto, ON, Canada...\n",
      "The last production of Cirque du Soleil - Kooza will take place on December 31st, 2023 at 1:00pm. This performance is playing at the Under The White Big Top - ...\n",
      "Buy and sell your Cirque du Soleil: Kooza - Toronto tickets today. ... There has never been a better time to be a fan of the circus, as Cirque du Soleil has ...\n",
      "Apr 7, 2023 — Your one-stop, online source for Arts, Cultural and Community Events in Toronto Ontario.\n",
      "Cirque du Soleil - Kooza at the Under The Big Top, Toronto, ON. Until June 18, 2023. Buy tickets online now or find out more with Toronto Theater.\n",
      "Cirque du Soleil Kooza shows may vary slightly in length but will generally run for 90 minutes to two hours. Cirque du Soleil Kooza Tour Dates and Ticket Prices.\n",
      "The story follows an ambitious inventor who defies the laws of space, time, and dimension in order to reinvent everything.\n",
      "Cirque du Soleil Kooza shows may vary slightly in length but will generally run for 90 minutes to two hours. Cirque du Soleil Kooza Tour Dates and Ticket Prices.\n",
      "The story follows an ambitious inventor who defies the laws of space, time, and dimension in order to reinvent everything.\n"
     ]
    }
   ],
   "source": [
    "for r in results:\n",
    "    print(r.description)"
   ]
  },
  {
   "cell_type": "code",
   "execution_count": 12,
   "id": "49bca0d2",
   "metadata": {},
   "outputs": [],
   "source": [
    "from datetime import datetime"
   ]
  },
  {
   "cell_type": "code",
   "execution_count": 14,
   "id": "96c60139",
   "metadata": {},
   "outputs": [
    {
     "data": {
      "text/plain": [
       "'04/29/2023, 11:32:12'"
      ]
     },
     "execution_count": 14,
     "metadata": {},
     "output_type": "execute_result"
    }
   ],
   "source": [
    "datetime.now().strftime(\"%m/%d/%Y, %H:%M:%S\")"
   ]
  },
  {
   "cell_type": "code",
   "execution_count": 7,
   "id": "62e011ec",
   "metadata": {},
   "outputs": [
    {
     "name": "stdout",
     "output_type": "stream",
     "text": [
      "\n",
      "\n",
      "\u001b[1m> Entering new AgentExecutor chain...\u001b[0m\n",
      "\u001b[32;1m\u001b[1;3m{\n",
      "    \"action\": \"Final Answer\",\n",
      "    \"action_input\": \"Hello Joel! How can I assist you today?\"\n",
      "}\u001b[0m\n",
      "\n",
      "\u001b[1m> Finished chain.\u001b[0m\n"
     ]
    },
    {
     "data": {
      "text/plain": [
       "'Hello Joel! How can I assist you today?'"
      ]
     },
     "execution_count": 7,
     "metadata": {},
     "output_type": "execute_result"
    }
   ],
   "source": []
  },
  {
   "cell_type": "code",
   "execution_count": 8,
   "id": "60f8a293",
   "metadata": {},
   "outputs": [
    {
     "name": "stdout",
     "output_type": "stream",
     "text": [
      "\n",
      "\n",
      "\u001b[1m> Entering new AgentExecutor chain...\u001b[0m\n",
      "\u001b[32;1m\u001b[1;3m{\n",
      "    \"action\": \"Final Answer\",\n",
      "    \"action_input\": \"J\"\n",
      "}\u001b[0m\n",
      "\n",
      "\u001b[1m> Finished chain.\u001b[0m\n"
     ]
    },
    {
     "data": {
      "text/plain": [
       "'J'"
      ]
     },
     "execution_count": 8,
     "metadata": {},
     "output_type": "execute_result"
    }
   ],
   "source": []
  },
  {
   "cell_type": "code",
   "execution_count": 9,
   "id": "4ff0a781",
   "metadata": {},
   "outputs": [
    {
     "data": {
      "text/plain": [
       "[HumanMessage(content='Hello, my name is Joel', additional_kwargs={}),\n",
       " AIMessage(content='Hello Joel! How can I assist you today?', additional_kwargs={}),\n",
       " HumanMessage(content='What is the first letter in my name?', additional_kwargs={}),\n",
       " AIMessage(content='J', additional_kwargs={})]"
      ]
     },
     "execution_count": 9,
     "metadata": {},
     "output_type": "execute_result"
    }
   ],
   "source": []
  },
  {
   "cell_type": "code",
   "execution_count": 15,
   "id": "e0a00827",
   "metadata": {},
   "outputs": [],
   "source": []
  },
  {
   "cell_type": "code",
   "execution_count": 16,
   "id": "a566ac19",
   "metadata": {},
   "outputs": [],
   "source": []
  },
  {
   "cell_type": "code",
   "execution_count": 17,
   "id": "c5d3f25e",
   "metadata": {},
   "outputs": [
    {
     "name": "stderr",
     "output_type": "stream",
     "text": [
      "Retrying langchain.chat_models.openai.ChatOpenAI.completion_with_retry.<locals>._completion_with_retry in 4.0 seconds as it raised APIConnectionError: Error communicating with OpenAI: ('Connection aborted.', RemoteDisconnected('Remote end closed connection without response')).\n"
     ]
    },
    {
     "name": "stdout",
     "output_type": "stream",
     "text": [
      "\n",
      "\n",
      "\u001b[1m> Entering new AgentExecutor chain...\u001b[0m\n",
      "\u001b[32;1m\u001b[1;3m{\n",
      "    \"action\": \"Google Search\",\n",
      "    \"action_input\": \"Joel Davenport solutions engineer\"\n",
      "}\u001b[0m\n",
      "Observation: \u001b[36;1m\u001b[1;3mJoel Davenport. Experienced Solution Engineer, Passionate Technologist, and AI Prompt Engineer. MuleSoftGeorgia Institute of Technology ... Join Facebook to connect with Joel Davenport and others you may know. ... People named Joel Davenport ... Senior Solutions Engineer at MuleSoft. View Joel Davenport's profile on LinkedIn, the world's largest ... Experienced Solution Engineer, Passionate Technologist, and AI Prompt Engineer. Dave Koster, General Manager · Ted Siler, Utility Services Director · Becky Lehman, Business Services Director · Joel Davenport, Operations Director · Charles ... A highly motivated engineering and plant management professional with over twenty years of experience in the chemical process and food industry. Jan 6, 2020 ... Report prepared by: Joel Davenport, Operations Director. Page 2 of 2 ... Report prepared by: Mark Gipson, P.E. W/WW Services Engineer. Experienced Quality Assurance Specialist with a demonstrated history of working in the information technology and services industry. Dec 13, 2019 ... Business Services. Director. Chuck Warren. Finance Director. Joel Davenport. Operations Director. Ted Siler. Utility Services Director. Attorney in Mueller, Inc. Video Photographer in WECT TV, Wilmington NC; Broker in Eidyia Solutions, Inc. Software System Engineer in Not Disclosed; Manager in ... Sabrina Reis Director of Software Engineering ... Joel Specht Lead Software Engineer ... Nathan Davenport Software Engineer Cirrus Link Solutions.\u001b[0m\n",
      "Thought:\u001b[32;1m\u001b[1;3m{\n",
      "    \"action\": \"Final Answer\",\n",
      "    \"action_input\": \"Joel Davenport is an experienced solutions engineer with a background in computer science and machine learning. He has worked at companies such as MuleSoft/Salesforce and Springbuk, and has experience in project management, machine learning, and software engineering. He is also involved in volunteering with FeedingTeam, a network of outdoor food pantries in the Hamilton County area.\"\n",
      "}\u001b[0m\n",
      "\n",
      "\u001b[1m> Finished chain.\u001b[0m\n"
     ]
    },
    {
     "data": {
      "text/plain": [
       "'Joel Davenport is an experienced solutions engineer with a background in computer science and machine learning. He has worked at companies such as MuleSoft/Salesforce and Springbuk, and has experience in project management, machine learning, and software engineering. He is also involved in volunteering with FeedingTeam, a network of outdoor food pantries in the Hamilton County area.'"
      ]
     },
     "execution_count": 17,
     "metadata": {},
     "output_type": "execute_result"
    }
   ],
   "source": []
  },
  {
   "cell_type": "code",
   "execution_count": null,
   "id": "7f178079",
   "metadata": {},
   "outputs": [],
   "source": []
  }
 ],
 "metadata": {
  "kernelspec": {
   "display_name": "Python 3 (ipykernel)",
   "language": "python",
   "name": "python3"
  },
  "language_info": {
   "codemirror_mode": {
    "name": "ipython",
    "version": 3
   },
   "file_extension": ".py",
   "mimetype": "text/x-python",
   "name": "python",
   "nbconvert_exporter": "python",
   "pygments_lexer": "ipython3",
   "version": "3.10.6"
  }
 },
 "nbformat": 4,
 "nbformat_minor": 5
}
